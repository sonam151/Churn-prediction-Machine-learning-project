{
 "cells": [
  {
   "cell_type": "markdown",
   "metadata": {},
   "source": [
    "# Decision Tree"
   ]
  },
  {
   "cell_type": "code",
   "execution_count": 1,
   "metadata": {},
   "outputs": [],
   "source": [
    "import pandas as pd\n",
    "import matplotlib.pyplot as plt\n",
    "%matplotlib inline\n",
    "import numpy as np"
   ]
  },
  {
   "cell_type": "code",
   "execution_count": 2,
   "metadata": {},
   "outputs": [
    {
     "data": {
      "text/html": [
       "<div>\n",
       "<style scoped>\n",
       "    .dataframe tbody tr th:only-of-type {\n",
       "        vertical-align: middle;\n",
       "    }\n",
       "\n",
       "    .dataframe tbody tr th {\n",
       "        vertical-align: top;\n",
       "    }\n",
       "\n",
       "    .dataframe thead th {\n",
       "        text-align: right;\n",
       "    }\n",
       "</style>\n",
       "<table border=\"1\" class=\"dataframe\">\n",
       "  <thead>\n",
       "    <tr style=\"text-align: right;\">\n",
       "      <th></th>\n",
       "      <th>customer_id</th>\n",
       "      <th>vintage</th>\n",
       "      <th>age</th>\n",
       "      <th>dependents</th>\n",
       "      <th>occupation</th>\n",
       "      <th>city</th>\n",
       "      <th>customer_nw_category</th>\n",
       "      <th>branch_code</th>\n",
       "      <th>days_since_last_transaction</th>\n",
       "      <th>current_balance</th>\n",
       "      <th>...</th>\n",
       "      <th>average_monthly_balance_prevQ2</th>\n",
       "      <th>current_month_credit</th>\n",
       "      <th>previous_month_credit</th>\n",
       "      <th>current_month_debit</th>\n",
       "      <th>previous_month_debit</th>\n",
       "      <th>current_month_balance</th>\n",
       "      <th>previous_month_balance</th>\n",
       "      <th>churn</th>\n",
       "      <th>gender_female</th>\n",
       "      <th>gender_male</th>\n",
       "    </tr>\n",
       "  </thead>\n",
       "  <tbody>\n",
       "    <tr>\n",
       "      <th>0</th>\n",
       "      <td>1</td>\n",
       "      <td>3135.0</td>\n",
       "      <td>66</td>\n",
       "      <td>0.0</td>\n",
       "      <td>0</td>\n",
       "      <td>187.000000</td>\n",
       "      <td>2</td>\n",
       "      <td>755.000000</td>\n",
       "      <td>69.997814</td>\n",
       "      <td>1458.71</td>\n",
       "      <td>...</td>\n",
       "      <td>1449.07</td>\n",
       "      <td>0.20</td>\n",
       "      <td>0.20</td>\n",
       "      <td>0.20</td>\n",
       "      <td>0.20</td>\n",
       "      <td>1458.71</td>\n",
       "      <td>1458.71</td>\n",
       "      <td>0</td>\n",
       "      <td>0</td>\n",
       "      <td>1</td>\n",
       "    </tr>\n",
       "    <tr>\n",
       "      <th>1</th>\n",
       "      <td>2</td>\n",
       "      <td>310.0</td>\n",
       "      <td>35</td>\n",
       "      <td>0.0</td>\n",
       "      <td>0</td>\n",
       "      <td>796.109576</td>\n",
       "      <td>2</td>\n",
       "      <td>925.975019</td>\n",
       "      <td>60.000000</td>\n",
       "      <td>5390.37</td>\n",
       "      <td>...</td>\n",
       "      <td>12419.41</td>\n",
       "      <td>0.56</td>\n",
       "      <td>0.56</td>\n",
       "      <td>5486.27</td>\n",
       "      <td>100.56</td>\n",
       "      <td>6496.78</td>\n",
       "      <td>8787.61</td>\n",
       "      <td>0</td>\n",
       "      <td>0</td>\n",
       "      <td>1</td>\n",
       "    </tr>\n",
       "    <tr>\n",
       "      <th>2</th>\n",
       "      <td>4</td>\n",
       "      <td>2356.0</td>\n",
       "      <td>31</td>\n",
       "      <td>0.0</td>\n",
       "      <td>1</td>\n",
       "      <td>146.000000</td>\n",
       "      <td>2</td>\n",
       "      <td>41.000000</td>\n",
       "      <td>69.997814</td>\n",
       "      <td>3913.16</td>\n",
       "      <td>...</td>\n",
       "      <td>2815.94</td>\n",
       "      <td>0.61</td>\n",
       "      <td>0.61</td>\n",
       "      <td>6046.73</td>\n",
       "      <td>259.23</td>\n",
       "      <td>5006.28</td>\n",
       "      <td>5070.14</td>\n",
       "      <td>0</td>\n",
       "      <td>0</td>\n",
       "      <td>1</td>\n",
       "    </tr>\n",
       "    <tr>\n",
       "      <th>3</th>\n",
       "      <td>5</td>\n",
       "      <td>478.0</td>\n",
       "      <td>90</td>\n",
       "      <td>0.0</td>\n",
       "      <td>0</td>\n",
       "      <td>1020.000000</td>\n",
       "      <td>2</td>\n",
       "      <td>582.000000</td>\n",
       "      <td>147.000000</td>\n",
       "      <td>2291.91</td>\n",
       "      <td>...</td>\n",
       "      <td>1006.54</td>\n",
       "      <td>0.47</td>\n",
       "      <td>0.47</td>\n",
       "      <td>0.47</td>\n",
       "      <td>2143.33</td>\n",
       "      <td>2291.91</td>\n",
       "      <td>1669.79</td>\n",
       "      <td>1</td>\n",
       "      <td>0</td>\n",
       "      <td>1</td>\n",
       "    </tr>\n",
       "    <tr>\n",
       "      <th>4</th>\n",
       "      <td>6</td>\n",
       "      <td>2531.0</td>\n",
       "      <td>42</td>\n",
       "      <td>2.0</td>\n",
       "      <td>0</td>\n",
       "      <td>1494.000000</td>\n",
       "      <td>3</td>\n",
       "      <td>388.000000</td>\n",
       "      <td>58.000000</td>\n",
       "      <td>927.72</td>\n",
       "      <td>...</td>\n",
       "      <td>1871.12</td>\n",
       "      <td>0.33</td>\n",
       "      <td>714.61</td>\n",
       "      <td>588.62</td>\n",
       "      <td>1538.06</td>\n",
       "      <td>1157.15</td>\n",
       "      <td>1677.16</td>\n",
       "      <td>1</td>\n",
       "      <td>0</td>\n",
       "      <td>1</td>\n",
       "    </tr>\n",
       "  </tbody>\n",
       "</table>\n",
       "<p>5 rows × 22 columns</p>\n",
       "</div>"
      ],
      "text/plain": [
       "   customer_id  vintage  age  dependents  occupation         city  \\\n",
       "0            1   3135.0   66         0.0           0   187.000000   \n",
       "1            2    310.0   35         0.0           0   796.109576   \n",
       "2            4   2356.0   31         0.0           1   146.000000   \n",
       "3            5    478.0   90         0.0           0  1020.000000   \n",
       "4            6   2531.0   42         2.0           0  1494.000000   \n",
       "\n",
       "   customer_nw_category  branch_code  days_since_last_transaction  \\\n",
       "0                     2   755.000000                    69.997814   \n",
       "1                     2   925.975019                    60.000000   \n",
       "2                     2    41.000000                    69.997814   \n",
       "3                     2   582.000000                   147.000000   \n",
       "4                     3   388.000000                    58.000000   \n",
       "\n",
       "   current_balance  ...  average_monthly_balance_prevQ2  current_month_credit  \\\n",
       "0          1458.71  ...                         1449.07                  0.20   \n",
       "1          5390.37  ...                        12419.41                  0.56   \n",
       "2          3913.16  ...                         2815.94                  0.61   \n",
       "3          2291.91  ...                         1006.54                  0.47   \n",
       "4           927.72  ...                         1871.12                  0.33   \n",
       "\n",
       "   previous_month_credit  current_month_debit  previous_month_debit  \\\n",
       "0                   0.20                 0.20                  0.20   \n",
       "1                   0.56              5486.27                100.56   \n",
       "2                   0.61              6046.73                259.23   \n",
       "3                   0.47                 0.47               2143.33   \n",
       "4                 714.61               588.62               1538.06   \n",
       "\n",
       "   current_month_balance  previous_month_balance  churn  gender_female  \\\n",
       "0                1458.71                 1458.71      0              0   \n",
       "1                6496.78                 8787.61      0              0   \n",
       "2                5006.28                 5070.14      0              0   \n",
       "3                2291.91                 1669.79      1              0   \n",
       "4                1157.15                 1677.16      1              0   \n",
       "\n",
       "   gender_male  \n",
       "0            1  \n",
       "1            1  \n",
       "2            1  \n",
       "3            1  \n",
       "4            1  \n",
       "\n",
       "[5 rows x 22 columns]"
      ]
     },
     "execution_count": 2,
     "metadata": {},
     "output_type": "execute_result"
    }
   ],
   "source": [
    "data=pd.read_csv('churn_prediction_cleaned.csv')\n",
    "data.head()"
   ]
  },
  {
   "cell_type": "code",
   "execution_count": 3,
   "metadata": {},
   "outputs": [
    {
     "data": {
      "text/plain": [
       "customer_id                       0\n",
       "vintage                           0\n",
       "age                               0\n",
       "dependents                        0\n",
       "occupation                        0\n",
       "city                              0\n",
       "customer_nw_category              0\n",
       "branch_code                       0\n",
       "days_since_last_transaction       0\n",
       "current_balance                   0\n",
       "previous_month_end_balance        0\n",
       "average_monthly_balance_prevQ     0\n",
       "average_monthly_balance_prevQ2    0\n",
       "current_month_credit              0\n",
       "previous_month_credit             0\n",
       "current_month_debit               0\n",
       "previous_month_debit              0\n",
       "current_month_balance             0\n",
       "previous_month_balance            0\n",
       "churn                             0\n",
       "gender_female                     0\n",
       "gender_male                       0\n",
       "dtype: int64"
      ]
     },
     "execution_count": 3,
     "metadata": {},
     "output_type": "execute_result"
    }
   ],
   "source": [
    "data.isnull().sum()"
   ]
  },
  {
   "cell_type": "code",
   "execution_count": 4,
   "metadata": {},
   "outputs": [
    {
     "data": {
      "text/plain": [
       "Index(['customer_id', 'vintage', 'age', 'dependents', 'occupation', 'city',\n",
       "       'customer_nw_category', 'branch_code', 'days_since_last_transaction',\n",
       "       'current_balance', 'previous_month_end_balance',\n",
       "       'average_monthly_balance_prevQ', 'average_monthly_balance_prevQ2',\n",
       "       'current_month_credit', 'previous_month_credit', 'current_month_debit',\n",
       "       'previous_month_debit', 'current_month_balance',\n",
       "       'previous_month_balance', 'churn', 'gender_female', 'gender_male'],\n",
       "      dtype='object')"
      ]
     },
     "execution_count": 4,
     "metadata": {},
     "output_type": "execute_result"
    }
   ],
   "source": [
    "data.columns"
   ]
  },
  {
   "cell_type": "markdown",
   "metadata": {},
   "source": [
    "### Segregate Variables:Independent And dependent Variables"
   ]
  },
  {
   "cell_type": "code",
   "execution_count": 5,
   "metadata": {},
   "outputs": [],
   "source": [
    "x=data.drop('churn',axis=1)\n",
    "y=data['churn']"
   ]
  },
  {
   "cell_type": "markdown",
   "metadata": {},
   "source": [
    "### Scaling"
   ]
  },
  {
   "cell_type": "code",
   "execution_count": 6,
   "metadata": {},
   "outputs": [],
   "source": [
    "from sklearn.preprocessing import StandardScaler\n",
    "ss=StandardScaler()\n",
    "scaled_x=ss.fit_transform(x)\n",
    "x=pd.DataFrame(scaled_x,columns=x.columns)"
   ]
  },
  {
   "cell_type": "code",
   "execution_count": 7,
   "metadata": {},
   "outputs": [
    {
     "data": {
      "text/html": [
       "<div>\n",
       "<style scoped>\n",
       "    .dataframe tbody tr th:only-of-type {\n",
       "        vertical-align: middle;\n",
       "    }\n",
       "\n",
       "    .dataframe tbody tr th {\n",
       "        vertical-align: top;\n",
       "    }\n",
       "\n",
       "    .dataframe thead th {\n",
       "        text-align: right;\n",
       "    }\n",
       "</style>\n",
       "<table border=\"1\" class=\"dataframe\">\n",
       "  <thead>\n",
       "    <tr style=\"text-align: right;\">\n",
       "      <th></th>\n",
       "      <th>customer_id</th>\n",
       "      <th>vintage</th>\n",
       "      <th>age</th>\n",
       "      <th>dependents</th>\n",
       "      <th>occupation</th>\n",
       "      <th>city</th>\n",
       "      <th>customer_nw_category</th>\n",
       "      <th>branch_code</th>\n",
       "      <th>days_since_last_transaction</th>\n",
       "      <th>current_balance</th>\n",
       "      <th>...</th>\n",
       "      <th>average_monthly_balance_prevQ</th>\n",
       "      <th>average_monthly_balance_prevQ2</th>\n",
       "      <th>current_month_credit</th>\n",
       "      <th>previous_month_credit</th>\n",
       "      <th>current_month_debit</th>\n",
       "      <th>previous_month_debit</th>\n",
       "      <th>current_month_balance</th>\n",
       "      <th>previous_month_balance</th>\n",
       "      <th>gender_female</th>\n",
       "      <th>gender_male</th>\n",
       "    </tr>\n",
       "  </thead>\n",
       "  <tbody>\n",
       "    <tr>\n",
       "      <th>0</th>\n",
       "      <td>-1.731304</td>\n",
       "      <td>0.745347</td>\n",
       "      <td>0.999147</td>\n",
       "      <td>-0.330877</td>\n",
       "      <td>-0.659607</td>\n",
       "      <td>-1.427499</td>\n",
       "      <td>-0.341489</td>\n",
       "      <td>-0.034918</td>\n",
       "      <td>0.661919</td>\n",
       "      <td>-0.139017</td>\n",
       "      <td>...</td>\n",
       "      <td>-0.144709</td>\n",
       "      <td>-0.127317</td>\n",
       "      <td>-0.044545</td>\n",
       "      <td>-0.109858</td>\n",
       "      <td>-0.070378</td>\n",
       "      <td>-0.137427</td>\n",
       "      <td>-0.142564</td>\n",
       "      <td>-0.142265</td>\n",
       "      <td>-0.813874</td>\n",
       "      <td>0.813874</td>\n",
       "    </tr>\n",
       "    <tr>\n",
       "      <th>1</th>\n",
       "      <td>-1.731190</td>\n",
       "      <td>-1.404354</td>\n",
       "      <td>-0.741756</td>\n",
       "      <td>-0.330877</td>\n",
       "      <td>-0.659607</td>\n",
       "      <td>0.000000</td>\n",
       "      <td>-0.341489</td>\n",
       "      <td>0.208053</td>\n",
       "      <td>0.385946</td>\n",
       "      <td>-0.046720</td>\n",
       "      <td>...</td>\n",
       "      <td>0.007249</td>\n",
       "      <td>0.118793</td>\n",
       "      <td>-0.044540</td>\n",
       "      <td>-0.109846</td>\n",
       "      <td>0.035155</td>\n",
       "      <td>-0.133297</td>\n",
       "      <td>-0.022705</td>\n",
       "      <td>0.030459</td>\n",
       "      <td>-0.813874</td>\n",
       "      <td>0.813874</td>\n",
       "    </tr>\n",
       "    <tr>\n",
       "      <th>2</th>\n",
       "      <td>-1.730961</td>\n",
       "      <td>0.152562</td>\n",
       "      <td>-0.966389</td>\n",
       "      <td>-0.330877</td>\n",
       "      <td>0.438268</td>\n",
       "      <td>-1.523586</td>\n",
       "      <td>-0.341489</td>\n",
       "      <td>-1.049574</td>\n",
       "      <td>0.661919</td>\n",
       "      <td>-0.081398</td>\n",
       "      <td>...</td>\n",
       "      <td>-0.061991</td>\n",
       "      <td>-0.096652</td>\n",
       "      <td>-0.044539</td>\n",
       "      <td>-0.109844</td>\n",
       "      <td>0.045936</td>\n",
       "      <td>-0.126767</td>\n",
       "      <td>-0.058165</td>\n",
       "      <td>-0.057152</td>\n",
       "      <td>-0.813874</td>\n",
       "      <td>0.813874</td>\n",
       "    </tr>\n",
       "    <tr>\n",
       "      <th>3</th>\n",
       "      <td>-1.730847</td>\n",
       "      <td>-1.276513</td>\n",
       "      <td>2.346943</td>\n",
       "      <td>-0.330877</td>\n",
       "      <td>-0.659607</td>\n",
       "      <td>0.524706</td>\n",
       "      <td>-0.341489</td>\n",
       "      <td>-0.280766</td>\n",
       "      <td>2.787438</td>\n",
       "      <td>-0.119457</td>\n",
       "      <td>...</td>\n",
       "      <td>-0.129711</td>\n",
       "      <td>-0.137244</td>\n",
       "      <td>-0.044541</td>\n",
       "      <td>-0.109849</td>\n",
       "      <td>-0.070372</td>\n",
       "      <td>-0.049234</td>\n",
       "      <td>-0.122742</td>\n",
       "      <td>-0.137290</td>\n",
       "      <td>-0.813874</td>\n",
       "      <td>0.813874</td>\n",
       "    </tr>\n",
       "    <tr>\n",
       "      <th>4</th>\n",
       "      <td>-1.730733</td>\n",
       "      <td>0.285729</td>\n",
       "      <td>-0.348649</td>\n",
       "      <td>1.756001</td>\n",
       "      <td>-0.659607</td>\n",
       "      <td>1.635565</td>\n",
       "      <td>1.172672</td>\n",
       "      <td>-0.556457</td>\n",
       "      <td>0.330739</td>\n",
       "      <td>-0.151482</td>\n",
       "      <td>...</td>\n",
       "      <td>-0.140285</td>\n",
       "      <td>-0.117848</td>\n",
       "      <td>-0.044543</td>\n",
       "      <td>-0.085794</td>\n",
       "      <td>-0.059058</td>\n",
       "      <td>-0.074142</td>\n",
       "      <td>-0.149738</td>\n",
       "      <td>-0.137116</td>\n",
       "      <td>-0.813874</td>\n",
       "      <td>0.813874</td>\n",
       "    </tr>\n",
       "  </tbody>\n",
       "</table>\n",
       "<p>5 rows × 21 columns</p>\n",
       "</div>"
      ],
      "text/plain": [
       "   customer_id   vintage       age  dependents  occupation      city  \\\n",
       "0    -1.731304  0.745347  0.999147   -0.330877   -0.659607 -1.427499   \n",
       "1    -1.731190 -1.404354 -0.741756   -0.330877   -0.659607  0.000000   \n",
       "2    -1.730961  0.152562 -0.966389   -0.330877    0.438268 -1.523586   \n",
       "3    -1.730847 -1.276513  2.346943   -0.330877   -0.659607  0.524706   \n",
       "4    -1.730733  0.285729 -0.348649    1.756001   -0.659607  1.635565   \n",
       "\n",
       "   customer_nw_category  branch_code  days_since_last_transaction  \\\n",
       "0             -0.341489    -0.034918                     0.661919   \n",
       "1             -0.341489     0.208053                     0.385946   \n",
       "2             -0.341489    -1.049574                     0.661919   \n",
       "3             -0.341489    -0.280766                     2.787438   \n",
       "4              1.172672    -0.556457                     0.330739   \n",
       "\n",
       "   current_balance  ...  average_monthly_balance_prevQ  \\\n",
       "0        -0.139017  ...                      -0.144709   \n",
       "1        -0.046720  ...                       0.007249   \n",
       "2        -0.081398  ...                      -0.061991   \n",
       "3        -0.119457  ...                      -0.129711   \n",
       "4        -0.151482  ...                      -0.140285   \n",
       "\n",
       "   average_monthly_balance_prevQ2  current_month_credit  \\\n",
       "0                       -0.127317             -0.044545   \n",
       "1                        0.118793             -0.044540   \n",
       "2                       -0.096652             -0.044539   \n",
       "3                       -0.137244             -0.044541   \n",
       "4                       -0.117848             -0.044543   \n",
       "\n",
       "   previous_month_credit  current_month_debit  previous_month_debit  \\\n",
       "0              -0.109858            -0.070378             -0.137427   \n",
       "1              -0.109846             0.035155             -0.133297   \n",
       "2              -0.109844             0.045936             -0.126767   \n",
       "3              -0.109849            -0.070372             -0.049234   \n",
       "4              -0.085794            -0.059058             -0.074142   \n",
       "\n",
       "   current_month_balance  previous_month_balance  gender_female  gender_male  \n",
       "0              -0.142564               -0.142265      -0.813874     0.813874  \n",
       "1              -0.022705                0.030459      -0.813874     0.813874  \n",
       "2              -0.058165               -0.057152      -0.813874     0.813874  \n",
       "3              -0.122742               -0.137290      -0.813874     0.813874  \n",
       "4              -0.149738               -0.137116      -0.813874     0.813874  \n",
       "\n",
       "[5 rows x 21 columns]"
      ]
     },
     "execution_count": 7,
     "metadata": {},
     "output_type": "execute_result"
    }
   ],
   "source": [
    "x.head()"
   ]
  },
  {
   "cell_type": "markdown",
   "metadata": {},
   "source": [
    "### Train Test  valid Split\n"
   ]
  },
  {
   "cell_type": "code",
   "execution_count": 8,
   "metadata": {},
   "outputs": [],
   "source": [
    "from sklearn.model_selection import train_test_split as tts"
   ]
  },
  {
   "cell_type": "code",
   "execution_count": 9,
   "metadata": {},
   "outputs": [],
   "source": [
    "train1_x,test_x,train1_y,test_y=tts(x,y,test_size=0.2,random_state=50,stratify=y)"
   ]
  },
  {
   "cell_type": "code",
   "execution_count": 10,
   "metadata": {},
   "outputs": [],
   "source": [
    "train_x,valid_x,train_y,valid_y=tts(train1_x,train1_y,test_size=0.2,random_state=50,stratify=train1_y)"
   ]
  },
  {
   "cell_type": "markdown",
   "metadata": {},
   "source": [
    "### Importing Decision Tree model for classification problem\n"
   ]
  },
  {
   "cell_type": "code",
   "execution_count": 11,
   "metadata": {},
   "outputs": [],
   "source": [
    "from sklearn.tree import DecisionTreeClassifier"
   ]
  },
  {
   "cell_type": "code",
   "execution_count": 12,
   "metadata": {},
   "outputs": [
    {
     "data": {
      "text/plain": [
       "DecisionTreeClassifier(random_state=15)"
      ]
     },
     "execution_count": 12,
     "metadata": {},
     "output_type": "execute_result"
    }
   ],
   "source": [
    "DT=DecisionTreeClassifier(random_state=15)\n",
    "DT.fit(train1_x,train1_y)"
   ]
  },
  {
   "cell_type": "code",
   "execution_count": 13,
   "metadata": {},
   "outputs": [
    {
     "data": {
      "text/plain": [
       "(0.7884446010216664, 1.0)"
      ]
     },
     "execution_count": 13,
     "metadata": {},
     "output_type": "execute_result"
    }
   ],
   "source": [
    "DT.score(test_x,test_y),DT.score(valid_x,valid_y)"
   ]
  },
  {
   "cell_type": "markdown",
   "metadata": {},
   "source": [
    "### Making prediction using predict_proba"
   ]
  },
  {
   "cell_type": "code",
   "execution_count": 14,
   "metadata": {},
   "outputs": [],
   "source": [
    "test_predict=DT.predict_proba(test_x)"
   ]
  },
  {
   "cell_type": "code",
   "execution_count": 15,
   "metadata": {},
   "outputs": [],
   "source": [
    "test_preds=test_predict[:,1]"
   ]
  },
  {
   "cell_type": "code",
   "execution_count": 16,
   "metadata": {},
   "outputs": [],
   "source": [
    "new_test=[]\n",
    "for i in range(len(test_preds)):\n",
    "    if test_preds[i]<=0.7:\n",
    "        new_test.append(0)\n",
    "    else:\n",
    "        new_test.append(1)"
   ]
  },
  {
   "cell_type": "code",
   "execution_count": 17,
   "metadata": {},
   "outputs": [],
   "source": [
    "from sklearn.metrics import accuracy_score"
   ]
  },
  {
   "cell_type": "code",
   "execution_count": 18,
   "metadata": {},
   "outputs": [
    {
     "data": {
      "text/plain": [
       "0.7884446010216664"
      ]
     },
     "execution_count": 18,
     "metadata": {},
     "output_type": "execute_result"
    }
   ],
   "source": [
    "score=accuracy_score(test_y,new_test)\n",
    "score"
   ]
  },
  {
   "cell_type": "markdown",
   "metadata": {},
   "source": [
    "### calculating optimal value of max_depth"
   ]
  },
  {
   "cell_type": "code",
   "execution_count": 19,
   "metadata": {},
   "outputs": [],
   "source": [
    "test_score=[]\n",
    "valid_score=[]\n",
    "for depth in range(1,10):\n",
    "    dt=DecisionTreeClassifier(max_depth=depth,random_state=15)\n",
    "    dt.fit(train1_x,train1_y)\n",
    "    temp1=dt.score(test_x,test_y)\n",
    "    temp2=dt.score(valid_x,valid_y)\n",
    "    test_score.append(temp1)\n",
    "    valid_score.append(temp2)"
   ]
  },
  {
   "cell_type": "code",
   "execution_count": 20,
   "metadata": {},
   "outputs": [
    {
     "data": {
      "text/html": [
       "<div>\n",
       "<style scoped>\n",
       "    .dataframe tbody tr th:only-of-type {\n",
       "        vertical-align: middle;\n",
       "    }\n",
       "\n",
       "    .dataframe tbody tr th {\n",
       "        vertical-align: top;\n",
       "    }\n",
       "\n",
       "    .dataframe thead th {\n",
       "        text-align: right;\n",
       "    }\n",
       "</style>\n",
       "<table border=\"1\" class=\"dataframe\">\n",
       "  <thead>\n",
       "    <tr style=\"text-align: right;\">\n",
       "      <th></th>\n",
       "      <th>depth</th>\n",
       "      <th>test_scr</th>\n",
       "      <th>valid_scr</th>\n",
       "    </tr>\n",
       "  </thead>\n",
       "  <tbody>\n",
       "    <tr>\n",
       "      <th>0</th>\n",
       "      <td>1</td>\n",
       "      <td>0.845693</td>\n",
       "      <td>0.849593</td>\n",
       "    </tr>\n",
       "    <tr>\n",
       "      <th>1</th>\n",
       "      <td>2</td>\n",
       "      <td>0.845693</td>\n",
       "      <td>0.849593</td>\n",
       "    </tr>\n",
       "    <tr>\n",
       "      <th>2</th>\n",
       "      <td>3</td>\n",
       "      <td>0.847807</td>\n",
       "      <td>0.851575</td>\n",
       "    </tr>\n",
       "    <tr>\n",
       "      <th>3</th>\n",
       "      <td>4</td>\n",
       "      <td>0.856262</td>\n",
       "      <td>0.857741</td>\n",
       "    </tr>\n",
       "    <tr>\n",
       "      <th>4</th>\n",
       "      <td>5</td>\n",
       "      <td>0.854853</td>\n",
       "      <td>0.866769</td>\n",
       "    </tr>\n",
       "    <tr>\n",
       "      <th>5</th>\n",
       "      <td>6</td>\n",
       "      <td>0.856086</td>\n",
       "      <td>0.872935</td>\n",
       "    </tr>\n",
       "    <tr>\n",
       "      <th>6</th>\n",
       "      <td>7</td>\n",
       "      <td>0.858024</td>\n",
       "      <td>0.879322</td>\n",
       "    </tr>\n",
       "    <tr>\n",
       "      <th>7</th>\n",
       "      <td>8</td>\n",
       "      <td>0.854324</td>\n",
       "      <td>0.887910</td>\n",
       "    </tr>\n",
       "    <tr>\n",
       "      <th>8</th>\n",
       "      <td>9</td>\n",
       "      <td>0.845869</td>\n",
       "      <td>0.898260</td>\n",
       "    </tr>\n",
       "  </tbody>\n",
       "</table>\n",
       "</div>"
      ],
      "text/plain": [
       "   depth  test_scr  valid_scr\n",
       "0      1  0.845693   0.849593\n",
       "1      2  0.845693   0.849593\n",
       "2      3  0.847807   0.851575\n",
       "3      4  0.856262   0.857741\n",
       "4      5  0.854853   0.866769\n",
       "5      6  0.856086   0.872935\n",
       "6      7  0.858024   0.879322\n",
       "7      8  0.854324   0.887910\n",
       "8      9  0.845869   0.898260"
      ]
     },
     "execution_count": 20,
     "metadata": {},
     "output_type": "execute_result"
    }
   ],
   "source": [
    "df=pd.DataFrame({'depth':range(1,10),'test_scr':test_score,'valid_scr':valid_score})\n",
    "df"
   ]
  },
  {
   "cell_type": "code",
   "execution_count": 21,
   "metadata": {},
   "outputs": [
    {
     "name": "stderr",
     "output_type": "stream",
     "text": [
      "No handles with labels found to put in legend.\n"
     ]
    },
    {
     "data": {
      "text/plain": [
       "<matplotlib.legend.Legend at 0x206d1588460>"
      ]
     },
     "execution_count": 21,
     "metadata": {},
     "output_type": "execute_result"
    },
    {
     "data": {
      "image/png": "[encoded data removed]",
      "text/plain": [
       "<Figure size 864x432 with 1 Axes>"
      ]
     },
     "metadata": {
      "needs_background": "light"
     },
     "output_type": "display_data"
    }
   ],
   "source": [
    "plt.figure(figsize=(12,6))\n",
    "plt.plot(df['depth'],df['test_scr'],marker='*')\n",
    "plt.plot(df['depth'],df['valid_scr'],marker='o')\n",
    "plt.xlabel('depth')\n",
    "plt.ylabel('accuracies')\n",
    "plt.legend()"
   ]
  },
  {
   "cell_type": "code",
   "execution_count": 22,
   "metadata": {},
   "outputs": [],
   "source": [
    "dt=DecisionTreeClassifier(max_depth=7,random_state=15)\n",
    "dt.fit(train1_x,train1_y)\n",
    "train1_score=dt.score(train1_x,train1_y)\n",
    "train_score=dt.score(train_x,train_y)\n",
    "test_score=dt.score(test_x,test_y)\n",
    "valid_score=dt.score(valid_x,valid_y )"
   ]
  },
  {
   "cell_type": "code",
   "execution_count": 23,
   "metadata": {
    "scrolled": true
   },
   "outputs": [
    {
     "data": {
      "text/plain": [
       "(0.8745210306099978,\n",
       " 0.8733208544373486,\n",
       " 0.8580236040162057,\n",
       " 0.8793217353005945)"
      ]
     },
     "execution_count": 23,
     "metadata": {},
     "output_type": "execute_result"
    }
   ],
   "source": [
    "train1_score,train_score,test_score,valid_score"
   ]
  },
  {
   "cell_type": "markdown",
   "metadata": {},
   "source": [
    "# Report"
   ]
  },
  {
   "cell_type": "code",
   "execution_count": 24,
   "metadata": {},
   "outputs": [],
   "source": [
    "from sklearn.metrics import classification_report as rep"
   ]
  },
  {
   "cell_type": "code",
   "execution_count": 25,
   "metadata": {},
   "outputs": [],
   "source": [
    "test_report=rep(test_y,DT.predict(test_x))\n",
    "valid_report=rep(valid_y,DT.predict(valid_x))"
   ]
  },
  {
   "cell_type": "code",
   "execution_count": 27,
   "metadata": {},
   "outputs": [
    {
     "name": "stdout",
     "output_type": "stream",
     "text": [
      "              precision    recall  f1-score   support\n",
      "\n",
      "           0       0.87      0.86      0.87      4625\n",
      "           1       0.43      0.45      0.44      1052\n",
      "\n",
      "    accuracy                           0.79      5677\n",
      "   macro avg       0.65      0.66      0.66      5677\n",
      "weighted avg       0.79      0.79      0.79      5677\n",
      "\n"
     ]
    }
   ],
   "source": [
    "print(test_report)"
   ]
  },
  {
   "cell_type": "code",
   "execution_count": 28,
   "metadata": {},
   "outputs": [
    {
     "name": "stdout",
     "output_type": "stream",
     "text": [
      "              precision    recall  f1-score   support\n",
      "\n",
      "           0       1.00      1.00      1.00      3699\n",
      "           1       1.00      1.00      1.00       842\n",
      "\n",
      "    accuracy                           1.00      4541\n",
      "   macro avg       1.00      1.00      1.00      4541\n",
      "weighted avg       1.00      1.00      1.00      4541\n",
      "\n"
     ]
    }
   ],
   "source": [
    "print(valid_report)"
   ]
  }
 ],
 "metadata": {
  "kernelspec": {
   "display_name": "Python 3",
   "language": "python",
   "name": "python3"
  },
  "language_info": {
   "codemirror_mode": {
    "name": "ipython",
    "version": 3
   },
   "file_extension": ".py",
   "mimetype": "text/x-python",
   "name": "python",
   "nbconvert_exporter": "python",
   "pygments_lexer": "ipython3",
   "version": "3.8.5"
  }
 },
 "nbformat": 4,
 "nbformat_minor": 4
}
