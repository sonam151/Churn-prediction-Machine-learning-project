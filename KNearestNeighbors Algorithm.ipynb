{
 "cells": [
  {
   "cell_type": "markdown",
   "metadata": {},
   "source": [
    "#  K-Nearest Neighbors Classifier"
   ]
  },
  {
   "cell_type": "code",
   "execution_count": 1,
   "metadata": {},
   "outputs": [],
   "source": [
    "import pandas as pd\n",
    "import matplotlib.pyplot as plt\n",
    "import numpy as np\n",
    "import warnings\n",
    "warnings.filterwarnings(\"ignore\")"
   ]
  },
  {
   "cell_type": "code",
   "execution_count": 2,
   "metadata": {},
   "outputs": [
    {
     "data": {
      "text/html": [
       "<div>\n",
       "<style scoped>\n",
       "    .dataframe tbody tr th:only-of-type {\n",
       "        vertical-align: middle;\n",
       "    }\n",
       "\n",
       "    .dataframe tbody tr th {\n",
       "        vertical-align: top;\n",
       "    }\n",
       "\n",
       "    .dataframe thead th {\n",
       "        text-align: right;\n",
       "    }\n",
       "</style>\n",
       "<table border=\"1\" class=\"dataframe\">\n",
       "  <thead>\n",
       "    <tr style=\"text-align: right;\">\n",
       "      <th></th>\n",
       "      <th>customer_id</th>\n",
       "      <th>vintage</th>\n",
       "      <th>age</th>\n",
       "      <th>dependents</th>\n",
       "      <th>occupation</th>\n",
       "      <th>city</th>\n",
       "      <th>customer_nw_category</th>\n",
       "      <th>branch_code</th>\n",
       "      <th>days_since_last_transaction</th>\n",
       "      <th>current_balance</th>\n",
       "      <th>...</th>\n",
       "      <th>average_monthly_balance_prevQ2</th>\n",
       "      <th>current_month_credit</th>\n",
       "      <th>previous_month_credit</th>\n",
       "      <th>current_month_debit</th>\n",
       "      <th>previous_month_debit</th>\n",
       "      <th>current_month_balance</th>\n",
       "      <th>previous_month_balance</th>\n",
       "      <th>churn</th>\n",
       "      <th>gender_female</th>\n",
       "      <th>gender_male</th>\n",
       "    </tr>\n",
       "  </thead>\n",
       "  <tbody>\n",
       "    <tr>\n",
       "      <th>0</th>\n",
       "      <td>1</td>\n",
       "      <td>3135.000000</td>\n",
       "      <td>66</td>\n",
       "      <td>0.0</td>\n",
       "      <td>0</td>\n",
       "      <td>187.000000</td>\n",
       "      <td>2</td>\n",
       "      <td>755.000000</td>\n",
       "      <td>69.997814</td>\n",
       "      <td>1458.71</td>\n",
       "      <td>...</td>\n",
       "      <td>1449.07</td>\n",
       "      <td>0.20</td>\n",
       "      <td>0.20</td>\n",
       "      <td>0.20</td>\n",
       "      <td>0.20</td>\n",
       "      <td>1458.71</td>\n",
       "      <td>1458.71</td>\n",
       "      <td>0</td>\n",
       "      <td>0</td>\n",
       "      <td>1</td>\n",
       "    </tr>\n",
       "    <tr>\n",
       "      <th>1</th>\n",
       "      <td>2</td>\n",
       "      <td>310.000000</td>\n",
       "      <td>35</td>\n",
       "      <td>0.0</td>\n",
       "      <td>0</td>\n",
       "      <td>796.109576</td>\n",
       "      <td>2</td>\n",
       "      <td>925.975019</td>\n",
       "      <td>60.000000</td>\n",
       "      <td>5390.37</td>\n",
       "      <td>...</td>\n",
       "      <td>12419.41</td>\n",
       "      <td>0.56</td>\n",
       "      <td>0.56</td>\n",
       "      <td>5486.27</td>\n",
       "      <td>100.56</td>\n",
       "      <td>6496.78</td>\n",
       "      <td>8787.61</td>\n",
       "      <td>0</td>\n",
       "      <td>0</td>\n",
       "      <td>1</td>\n",
       "    </tr>\n",
       "    <tr>\n",
       "      <th>2</th>\n",
       "      <td>4</td>\n",
       "      <td>2356.000000</td>\n",
       "      <td>31</td>\n",
       "      <td>0.0</td>\n",
       "      <td>1</td>\n",
       "      <td>146.000000</td>\n",
       "      <td>2</td>\n",
       "      <td>41.000000</td>\n",
       "      <td>69.997814</td>\n",
       "      <td>3913.16</td>\n",
       "      <td>...</td>\n",
       "      <td>2815.94</td>\n",
       "      <td>0.61</td>\n",
       "      <td>0.61</td>\n",
       "      <td>6046.73</td>\n",
       "      <td>259.23</td>\n",
       "      <td>5006.28</td>\n",
       "      <td>5070.14</td>\n",
       "      <td>0</td>\n",
       "      <td>0</td>\n",
       "      <td>1</td>\n",
       "    </tr>\n",
       "    <tr>\n",
       "      <th>3</th>\n",
       "      <td>5</td>\n",
       "      <td>478.000000</td>\n",
       "      <td>90</td>\n",
       "      <td>0.0</td>\n",
       "      <td>0</td>\n",
       "      <td>1020.000000</td>\n",
       "      <td>2</td>\n",
       "      <td>582.000000</td>\n",
       "      <td>147.000000</td>\n",
       "      <td>2291.91</td>\n",
       "      <td>...</td>\n",
       "      <td>1006.54</td>\n",
       "      <td>0.47</td>\n",
       "      <td>0.47</td>\n",
       "      <td>0.47</td>\n",
       "      <td>2143.33</td>\n",
       "      <td>2291.91</td>\n",
       "      <td>1669.79</td>\n",
       "      <td>1</td>\n",
       "      <td>0</td>\n",
       "      <td>1</td>\n",
       "    </tr>\n",
       "    <tr>\n",
       "      <th>4</th>\n",
       "      <td>6</td>\n",
       "      <td>2531.000000</td>\n",
       "      <td>42</td>\n",
       "      <td>2.0</td>\n",
       "      <td>0</td>\n",
       "      <td>1494.000000</td>\n",
       "      <td>3</td>\n",
       "      <td>388.000000</td>\n",
       "      <td>58.000000</td>\n",
       "      <td>927.72</td>\n",
       "      <td>...</td>\n",
       "      <td>1871.12</td>\n",
       "      <td>0.33</td>\n",
       "      <td>714.61</td>\n",
       "      <td>588.62</td>\n",
       "      <td>1538.06</td>\n",
       "      <td>1157.15</td>\n",
       "      <td>1677.16</td>\n",
       "      <td>1</td>\n",
       "      <td>0</td>\n",
       "      <td>1</td>\n",
       "    </tr>\n",
       "    <tr>\n",
       "      <th>5</th>\n",
       "      <td>7</td>\n",
       "      <td>263.000000</td>\n",
       "      <td>42</td>\n",
       "      <td>0.0</td>\n",
       "      <td>0</td>\n",
       "      <td>1096.000000</td>\n",
       "      <td>2</td>\n",
       "      <td>1666.000000</td>\n",
       "      <td>60.000000</td>\n",
       "      <td>15202.20</td>\n",
       "      <td>...</td>\n",
       "      <td>13798.82</td>\n",
       "      <td>0.36</td>\n",
       "      <td>0.36</td>\n",
       "      <td>857.50</td>\n",
       "      <td>286.07</td>\n",
       "      <td>15719.44</td>\n",
       "      <td>15349.75</td>\n",
       "      <td>0</td>\n",
       "      <td>1</td>\n",
       "      <td>0</td>\n",
       "    </tr>\n",
       "    <tr>\n",
       "      <th>6</th>\n",
       "      <td>8</td>\n",
       "      <td>2364.336446</td>\n",
       "      <td>72</td>\n",
       "      <td>0.0</td>\n",
       "      <td>3</td>\n",
       "      <td>1020.000000</td>\n",
       "      <td>1</td>\n",
       "      <td>1.000000</td>\n",
       "      <td>98.000000</td>\n",
       "      <td>7006.93</td>\n",
       "      <td>...</td>\n",
       "      <td>11232.37</td>\n",
       "      <td>0.64</td>\n",
       "      <td>0.64</td>\n",
       "      <td>1299.64</td>\n",
       "      <td>439.26</td>\n",
       "      <td>7076.06</td>\n",
       "      <td>7755.98</td>\n",
       "      <td>0</td>\n",
       "      <td>0</td>\n",
       "      <td>1</td>\n",
       "    </tr>\n",
       "    <tr>\n",
       "      <th>7</th>\n",
       "      <td>9</td>\n",
       "      <td>1145.000000</td>\n",
       "      <td>46</td>\n",
       "      <td>0.0</td>\n",
       "      <td>0</td>\n",
       "      <td>623.000000</td>\n",
       "      <td>2</td>\n",
       "      <td>317.000000</td>\n",
       "      <td>69.997814</td>\n",
       "      <td>10096.58</td>\n",
       "      <td>...</td>\n",
       "      <td>16314.17</td>\n",
       "      <td>0.27</td>\n",
       "      <td>0.27</td>\n",
       "      <td>443.13</td>\n",
       "      <td>5688.44</td>\n",
       "      <td>8563.84</td>\n",
       "      <td>5317.04</td>\n",
       "      <td>0</td>\n",
       "      <td>0</td>\n",
       "      <td>1</td>\n",
       "    </tr>\n",
       "    <tr>\n",
       "      <th>8</th>\n",
       "      <td>10</td>\n",
       "      <td>2132.000000</td>\n",
       "      <td>31</td>\n",
       "      <td>0.0</td>\n",
       "      <td>1</td>\n",
       "      <td>1096.000000</td>\n",
       "      <td>2</td>\n",
       "      <td>925.975019</td>\n",
       "      <td>19.000000</td>\n",
       "      <td>1355.86</td>\n",
       "      <td>...</td>\n",
       "      <td>1126.13</td>\n",
       "      <td>714.51</td>\n",
       "      <td>121.09</td>\n",
       "      <td>714.51</td>\n",
       "      <td>359.44</td>\n",
       "      <td>1183.45</td>\n",
       "      <td>1857.42</td>\n",
       "      <td>0</td>\n",
       "      <td>0</td>\n",
       "      <td>1</td>\n",
       "    </tr>\n",
       "    <tr>\n",
       "      <th>9</th>\n",
       "      <td>11</td>\n",
       "      <td>3379.000000</td>\n",
       "      <td>40</td>\n",
       "      <td>3.0</td>\n",
       "      <td>0</td>\n",
       "      <td>1020.000000</td>\n",
       "      <td>2</td>\n",
       "      <td>38.000000</td>\n",
       "      <td>0.000000</td>\n",
       "      <td>4957.95</td>\n",
       "      <td>...</td>\n",
       "      <td>1864.33</td>\n",
       "      <td>6912.29</td>\n",
       "      <td>4206.13</td>\n",
       "      <td>1887.30</td>\n",
       "      <td>1348.85</td>\n",
       "      <td>1823.16</td>\n",
       "      <td>2416.69</td>\n",
       "      <td>0</td>\n",
       "      <td>0</td>\n",
       "      <td>1</td>\n",
       "    </tr>\n",
       "  </tbody>\n",
       "</table>\n",
       "<p>10 rows × 22 columns</p>\n",
       "</div>"
      ],
      "text/plain": [
       "   customer_id      vintage  age  dependents  occupation         city  \\\n",
       "0            1  3135.000000   66         0.0           0   187.000000   \n",
       "1            2   310.000000   35         0.0           0   796.109576   \n",
       "2            4  2356.000000   31         0.0           1   146.000000   \n",
       "3            5   478.000000   90         0.0           0  1020.000000   \n",
       "4            6  2531.000000   42         2.0           0  1494.000000   \n",
       "5            7   263.000000   42         0.0           0  1096.000000   \n",
       "6            8  2364.336446   72         0.0           3  1020.000000   \n",
       "7            9  1145.000000   46         0.0           0   623.000000   \n",
       "8           10  2132.000000   31         0.0           1  1096.000000   \n",
       "9           11  3379.000000   40         3.0           0  1020.000000   \n",
       "\n",
       "   customer_nw_category  branch_code  days_since_last_transaction  \\\n",
       "0                     2   755.000000                    69.997814   \n",
       "1                     2   925.975019                    60.000000   \n",
       "2                     2    41.000000                    69.997814   \n",
       "3                     2   582.000000                   147.000000   \n",
       "4                     3   388.000000                    58.000000   \n",
       "5                     2  1666.000000                    60.000000   \n",
       "6                     1     1.000000                    98.000000   \n",
       "7                     2   317.000000                    69.997814   \n",
       "8                     2   925.975019                    19.000000   \n",
       "9                     2    38.000000                     0.000000   \n",
       "\n",
       "   current_balance  ...  average_monthly_balance_prevQ2  current_month_credit  \\\n",
       "0          1458.71  ...                         1449.07                  0.20   \n",
       "1          5390.37  ...                        12419.41                  0.56   \n",
       "2          3913.16  ...                         2815.94                  0.61   \n",
       "3          2291.91  ...                         1006.54                  0.47   \n",
       "4           927.72  ...                         1871.12                  0.33   \n",
       "5         15202.20  ...                        13798.82                  0.36   \n",
       "6          7006.93  ...                        11232.37                  0.64   \n",
       "7         10096.58  ...                        16314.17                  0.27   \n",
       "8          1355.86  ...                         1126.13                714.51   \n",
       "9          4957.95  ...                         1864.33               6912.29   \n",
       "\n",
       "   previous_month_credit  current_month_debit  previous_month_debit  \\\n",
       "0                   0.20                 0.20                  0.20   \n",
       "1                   0.56              5486.27                100.56   \n",
       "2                   0.61              6046.73                259.23   \n",
       "3                   0.47                 0.47               2143.33   \n",
       "4                 714.61               588.62               1538.06   \n",
       "5                   0.36               857.50                286.07   \n",
       "6                   0.64              1299.64                439.26   \n",
       "7                   0.27               443.13               5688.44   \n",
       "8                 121.09               714.51                359.44   \n",
       "9                4206.13              1887.30               1348.85   \n",
       "\n",
       "   current_month_balance  previous_month_balance  churn  gender_female  \\\n",
       "0                1458.71                 1458.71      0              0   \n",
       "1                6496.78                 8787.61      0              0   \n",
       "2                5006.28                 5070.14      0              0   \n",
       "3                2291.91                 1669.79      1              0   \n",
       "4                1157.15                 1677.16      1              0   \n",
       "5               15719.44                15349.75      0              1   \n",
       "6                7076.06                 7755.98      0              0   \n",
       "7                8563.84                 5317.04      0              0   \n",
       "8                1183.45                 1857.42      0              0   \n",
       "9                1823.16                 2416.69      0              0   \n",
       "\n",
       "   gender_male  \n",
       "0            1  \n",
       "1            1  \n",
       "2            1  \n",
       "3            1  \n",
       "4            1  \n",
       "5            0  \n",
       "6            1  \n",
       "7            1  \n",
       "8            1  \n",
       "9            1  \n",
       "\n",
       "[10 rows x 22 columns]"
      ]
     },
     "execution_count": 2,
     "metadata": {},
     "output_type": "execute_result"
    }
   ],
   "source": [
    "data=pd.read_csv('Churn_prediction_cleaned.csv')\n",
    "data.head(10)"
   ]
  },
  {
   "cell_type": "code",
   "execution_count": 3,
   "metadata": {},
   "outputs": [
    {
     "data": {
      "text/plain": [
       "(28382, 22)"
      ]
     },
     "execution_count": 3,
     "metadata": {},
     "output_type": "execute_result"
    }
   ],
   "source": [
    "data.shape"
   ]
  },
  {
   "cell_type": "code",
   "execution_count": 4,
   "metadata": {},
   "outputs": [
    {
     "data": {
      "text/plain": [
       "customer_id                         int64\n",
       "vintage                           float64\n",
       "age                                 int64\n",
       "dependents                        float64\n",
       "occupation                          int64\n",
       "city                              float64\n",
       "customer_nw_category                int64\n",
       "branch_code                       float64\n",
       "days_since_last_transaction       float64\n",
       "current_balance                   float64\n",
       "previous_month_end_balance        float64\n",
       "average_monthly_balance_prevQ     float64\n",
       "average_monthly_balance_prevQ2    float64\n",
       "current_month_credit              float64\n",
       "previous_month_credit             float64\n",
       "current_month_debit               float64\n",
       "previous_month_debit              float64\n",
       "current_month_balance             float64\n",
       "previous_month_balance            float64\n",
       "churn                               int64\n",
       "gender_female                       int64\n",
       "gender_male                         int64\n",
       "dtype: object"
      ]
     },
     "execution_count": 4,
     "metadata": {},
     "output_type": "execute_result"
    }
   ],
   "source": [
    "data.dtypes"
   ]
  },
  {
   "cell_type": "code",
   "execution_count": 5,
   "metadata": {},
   "outputs": [
    {
     "data": {
      "text/plain": [
       "customer_id                       0\n",
       "vintage                           0\n",
       "age                               0\n",
       "dependents                        0\n",
       "occupation                        0\n",
       "city                              0\n",
       "customer_nw_category              0\n",
       "branch_code                       0\n",
       "days_since_last_transaction       0\n",
       "current_balance                   0\n",
       "previous_month_end_balance        0\n",
       "average_monthly_balance_prevQ     0\n",
       "average_monthly_balance_prevQ2    0\n",
       "current_month_credit              0\n",
       "previous_month_credit             0\n",
       "current_month_debit               0\n",
       "previous_month_debit              0\n",
       "current_month_balance             0\n",
       "previous_month_balance            0\n",
       "churn                             0\n",
       "gender_female                     0\n",
       "gender_male                       0\n",
       "dtype: int64"
      ]
     },
     "execution_count": 5,
     "metadata": {},
     "output_type": "execute_result"
    }
   ],
   "source": [
    "data.isnull().sum()"
   ]
  },
  {
   "cell_type": "markdown",
   "metadata": {},
   "source": [
    "### Segregate Variables:Independent And dependent Variables"
   ]
  },
  {
   "cell_type": "code",
   "execution_count": 6,
   "metadata": {},
   "outputs": [
    {
     "data": {
      "text/plain": [
       "((28382, 21), (28382,))"
      ]
     },
     "execution_count": 6,
     "metadata": {},
     "output_type": "execute_result"
    }
   ],
   "source": [
    "x=data.drop('churn',axis=1)\n",
    "y=data['churn']\n",
    "x.shape,y.shape"
   ]
  },
  {
   "cell_type": "markdown",
   "metadata": {},
   "source": [
    "### Scaling"
   ]
  },
  {
   "cell_type": "code",
   "execution_count": 7,
   "metadata": {},
   "outputs": [],
   "source": [
    "from sklearn.preprocessing import MinMaxScaler\n",
    "scaler=MinMaxScaler()\n",
    "x_scaled=scaler.fit_transform(x)"
   ]
  },
  {
   "cell_type": "code",
   "execution_count": 8,
   "metadata": {},
   "outputs": [],
   "source": [
    "x=pd.DataFrame(x_scaled,columns=x.columns)"
   ]
  },
  {
   "cell_type": "code",
   "execution_count": 9,
   "metadata": {},
   "outputs": [
    {
     "data": {
      "text/html": [
       "<div>\n",
       "<style scoped>\n",
       "    .dataframe tbody tr th:only-of-type {\n",
       "        vertical-align: middle;\n",
       "    }\n",
       "\n",
       "    .dataframe tbody tr th {\n",
       "        vertical-align: top;\n",
       "    }\n",
       "\n",
       "    .dataframe thead th {\n",
       "        text-align: right;\n",
       "    }\n",
       "</style>\n",
       "<table border=\"1\" class=\"dataframe\">\n",
       "  <thead>\n",
       "    <tr style=\"text-align: right;\">\n",
       "      <th></th>\n",
       "      <th>customer_id</th>\n",
       "      <th>vintage</th>\n",
       "      <th>age</th>\n",
       "      <th>dependents</th>\n",
       "      <th>occupation</th>\n",
       "      <th>city</th>\n",
       "      <th>customer_nw_category</th>\n",
       "      <th>branch_code</th>\n",
       "      <th>days_since_last_transaction</th>\n",
       "      <th>current_balance</th>\n",
       "      <th>...</th>\n",
       "      <th>average_monthly_balance_prevQ</th>\n",
       "      <th>average_monthly_balance_prevQ2</th>\n",
       "      <th>current_month_credit</th>\n",
       "      <th>previous_month_credit</th>\n",
       "      <th>current_month_debit</th>\n",
       "      <th>previous_month_debit</th>\n",
       "      <th>current_month_balance</th>\n",
       "      <th>previous_month_balance</th>\n",
       "      <th>gender_female</th>\n",
       "      <th>gender_male</th>\n",
       "    </tr>\n",
       "  </thead>\n",
       "  <tbody>\n",
       "    <tr>\n",
       "      <th>0</th>\n",
       "      <td>0.000000</td>\n",
       "      <td>0.555451</td>\n",
       "      <td>0.730337</td>\n",
       "      <td>0.000000</td>\n",
       "      <td>0.00</td>\n",
       "      <td>0.113402</td>\n",
       "      <td>0.5</td>\n",
       "      <td>0.279363</td>\n",
       "      <td>0.451599</td>\n",
       "      <td>0.001178</td>\n",
       "      <td>...</td>\n",
       "      <td>0.000005</td>\n",
       "      <td>0.003572</td>\n",
       "      <td>1.548512e-08</td>\n",
       "      <td>8.044683e-08</td>\n",
       "      <td>2.487609e-08</td>\n",
       "      <td>1.343546e-07</td>\n",
       "      <td>0.000836</td>\n",
       "      <td>0.001158</td>\n",
       "      <td>0.0</td>\n",
       "      <td>1.0</td>\n",
       "    </tr>\n",
       "    <tr>\n",
       "      <th>1</th>\n",
       "      <td>0.000033</td>\n",
       "      <td>0.024436</td>\n",
       "      <td>0.382022</td>\n",
       "      <td>0.000000</td>\n",
       "      <td>0.00</td>\n",
       "      <td>0.482783</td>\n",
       "      <td>0.5</td>\n",
       "      <td>0.342710</td>\n",
       "      <td>0.387097</td>\n",
       "      <td>0.001843</td>\n",
       "      <td>...</td>\n",
       "      <td>0.001118</td>\n",
       "      <td>0.005754</td>\n",
       "      <td>4.482534e-08</td>\n",
       "      <td>2.328724e-07</td>\n",
       "      <td>7.182983e-04</td>\n",
       "      <td>7.110188e-05</td>\n",
       "      <td>0.001707</td>\n",
       "      <td>0.002438</td>\n",
       "      <td>0.0</td>\n",
       "      <td>1.0</td>\n",
       "    </tr>\n",
       "    <tr>\n",
       "      <th>2</th>\n",
       "      <td>0.000099</td>\n",
       "      <td>0.409023</td>\n",
       "      <td>0.337079</td>\n",
       "      <td>0.000000</td>\n",
       "      <td>0.25</td>\n",
       "      <td>0.088539</td>\n",
       "      <td>0.5</td>\n",
       "      <td>0.014820</td>\n",
       "      <td>0.451599</td>\n",
       "      <td>0.001593</td>\n",
       "      <td>...</td>\n",
       "      <td>0.000611</td>\n",
       "      <td>0.003844</td>\n",
       "      <td>4.890037e-08</td>\n",
       "      <td>2.540426e-07</td>\n",
       "      <td>7.916775e-04</td>\n",
       "      <td>1.833021e-04</td>\n",
       "      <td>0.001450</td>\n",
       "      <td>0.001789</td>\n",
       "      <td>0.0</td>\n",
       "      <td>1.0</td>\n",
       "    </tr>\n",
       "    <tr>\n",
       "      <th>3</th>\n",
       "      <td>0.000132</td>\n",
       "      <td>0.056015</td>\n",
       "      <td>1.000000</td>\n",
       "      <td>0.000000</td>\n",
       "      <td>0.00</td>\n",
       "      <td>0.618557</td>\n",
       "      <td>0.5</td>\n",
       "      <td>0.215265</td>\n",
       "      <td>0.948387</td>\n",
       "      <td>0.001319</td>\n",
       "      <td>...</td>\n",
       "      <td>0.000115</td>\n",
       "      <td>0.003484</td>\n",
       "      <td>3.749028e-08</td>\n",
       "      <td>1.947660e-07</td>\n",
       "      <td>6.022631e-08</td>\n",
       "      <td>1.515605e-03</td>\n",
       "      <td>0.000980</td>\n",
       "      <td>0.001195</td>\n",
       "      <td>0.0</td>\n",
       "      <td>1.0</td>\n",
       "    </tr>\n",
       "    <tr>\n",
       "      <th>4</th>\n",
       "      <td>0.000165</td>\n",
       "      <td>0.441917</td>\n",
       "      <td>0.460674</td>\n",
       "      <td>0.038462</td>\n",
       "      <td>0.00</td>\n",
       "      <td>0.906004</td>\n",
       "      <td>1.0</td>\n",
       "      <td>0.143386</td>\n",
       "      <td>0.374194</td>\n",
       "      <td>0.001088</td>\n",
       "      <td>...</td>\n",
       "      <td>0.000038</td>\n",
       "      <td>0.003656</td>\n",
       "      <td>2.608020e-08</td>\n",
       "      <td>3.025648e-04</td>\n",
       "      <td>7.706481e-05</td>\n",
       "      <td>1.087601e-03</td>\n",
       "      <td>0.000784</td>\n",
       "      <td>0.001196</td>\n",
       "      <td>0.0</td>\n",
       "      <td>1.0</td>\n",
       "    </tr>\n",
       "  </tbody>\n",
       "</table>\n",
       "<p>5 rows × 21 columns</p>\n",
       "</div>"
      ],
      "text/plain": [
       "   customer_id   vintage       age  dependents  occupation      city  \\\n",
       "0     0.000000  0.555451  0.730337    0.000000        0.00  0.113402   \n",
       "1     0.000033  0.024436  0.382022    0.000000        0.00  0.482783   \n",
       "2     0.000099  0.409023  0.337079    0.000000        0.25  0.088539   \n",
       "3     0.000132  0.056015  1.000000    0.000000        0.00  0.618557   \n",
       "4     0.000165  0.441917  0.460674    0.038462        0.00  0.906004   \n",
       "\n",
       "   customer_nw_category  branch_code  days_since_last_transaction  \\\n",
       "0                   0.5     0.279363                     0.451599   \n",
       "1                   0.5     0.342710                     0.387097   \n",
       "2                   0.5     0.014820                     0.451599   \n",
       "3                   0.5     0.215265                     0.948387   \n",
       "4                   1.0     0.143386                     0.374194   \n",
       "\n",
       "   current_balance  ...  average_monthly_balance_prevQ  \\\n",
       "0         0.001178  ...                       0.000005   \n",
       "1         0.001843  ...                       0.001118   \n",
       "2         0.001593  ...                       0.000611   \n",
       "3         0.001319  ...                       0.000115   \n",
       "4         0.001088  ...                       0.000038   \n",
       "\n",
       "   average_monthly_balance_prevQ2  current_month_credit  \\\n",
       "0                        0.003572          1.548512e-08   \n",
       "1                        0.005754          4.482534e-08   \n",
       "2                        0.003844          4.890037e-08   \n",
       "3                        0.003484          3.749028e-08   \n",
       "4                        0.003656          2.608020e-08   \n",
       "\n",
       "   previous_month_credit  current_month_debit  previous_month_debit  \\\n",
       "0           8.044683e-08         2.487609e-08          1.343546e-07   \n",
       "1           2.328724e-07         7.182983e-04          7.110188e-05   \n",
       "2           2.540426e-07         7.916775e-04          1.833021e-04   \n",
       "3           1.947660e-07         6.022631e-08          1.515605e-03   \n",
       "4           3.025648e-04         7.706481e-05          1.087601e-03   \n",
       "\n",
       "   current_month_balance  previous_month_balance  gender_female  gender_male  \n",
       "0               0.000836                0.001158            0.0          1.0  \n",
       "1               0.001707                0.002438            0.0          1.0  \n",
       "2               0.001450                0.001789            0.0          1.0  \n",
       "3               0.000980                0.001195            0.0          1.0  \n",
       "4               0.000784                0.001196            0.0          1.0  \n",
       "\n",
       "[5 rows x 21 columns]"
      ]
     },
     "execution_count": 9,
     "metadata": {},
     "output_type": "execute_result"
    }
   ],
   "source": [
    "x.head()"
   ]
  },
  {
   "cell_type": "markdown",
   "metadata": {},
   "source": [
    "### Train Test Split"
   ]
  },
  {
   "cell_type": "code",
   "execution_count": 10,
   "metadata": {},
   "outputs": [],
   "source": [
    "from sklearn.model_selection import train_test_split as tts"
   ]
  },
  {
   "cell_type": "code",
   "execution_count": 12,
   "metadata": {},
   "outputs": [],
   "source": [
    "train1_x,test_x,train1_y,test_y=tts(x,y,test_size=0.2,random_state=56,stratify=y)"
   ]
  },
  {
   "cell_type": "code",
   "execution_count": 16,
   "metadata": {},
   "outputs": [],
   "source": [
    "train_x,valid_x,train_y,valid_y=tts(train1_x,train1_y,test_size=0.2,random_state=50,stratify=train1_y)"
   ]
  },
  {
   "cell_type": "markdown",
   "metadata": {},
   "source": [
    "### Importing KNN model for classification problem"
   ]
  },
  {
   "cell_type": "code",
   "execution_count": 18,
   "metadata": {},
   "outputs": [],
   "source": [
    "from sklearn.neighbors import KNeighborsClassifier as KNN"
   ]
  },
  {
   "cell_type": "markdown",
   "metadata": {},
   "source": [
    "### Elbow Method To Find The Optimal Value OF k"
   ]
  },
  {
   "cell_type": "code",
   "execution_count": 19,
   "metadata": {},
   "outputs": [],
   "source": [
    "def elbow(k):\n",
    "    k_error=[]\n",
    "    \n",
    "    for i in k:\n",
    "        knn=KNN(n_neighbors=i)\n",
    "        knn.fit(train1_x,train1_y)\n",
    "        tmp=knn.score(test_x,test_y)\n",
    "        temp=1-tmp\n",
    "        k_error.append(temp)\n",
    "      \n",
    "    return k_error"
   ]
  },
  {
   "cell_type": "code",
   "execution_count": 20,
   "metadata": {},
   "outputs": [],
   "source": [
    "#define the range for k\n",
    "\n",
    "k=range(6,24,2)"
   ]
  },
  {
   "cell_type": "code",
   "execution_count": 21,
   "metadata": {},
   "outputs": [],
   "source": [
    "#call the elbow function\n",
    "\n",
    "test=elbow(k)\n",
    " "
   ]
  },
  {
   "cell_type": "code",
   "execution_count": 22,
   "metadata": {},
   "outputs": [
    {
     "data": {
      "text/plain": [
       "Text(0.5, 1.0, 'Elbow')"
      ]
     },
     "execution_count": 22,
     "metadata": {},
     "output_type": "execute_result"
    },
    {
     "data": {
      "image/png": "[encoded data removed]",
      "text/plain": [
       "<Figure size 432x288 with 1 Axes>"
      ]
     },
     "metadata": {
      "needs_background": "light"
     },
     "output_type": "display_data"
    }
   ],
   "source": [
    "plt.plot(k,test)\n",
    "plt.xlabel('n_neighbors')\n",
    "plt.ylabel('test_error')\n",
    "plt.title('Elbow')"
   ]
  },
  {
   "cell_type": "markdown",
   "metadata": {},
   "source": [
    " "
   ]
  },
  {
   "cell_type": "code",
   "execution_count": 27,
   "metadata": {},
   "outputs": [
    {
     "data": {
      "text/plain": [
       "(0.8150187183439771,\n",
       " 0.8146908578474547,\n",
       " 0.8149636643911032,\n",
       " 0.8152389341554723)"
      ]
     },
     "execution_count": 27,
     "metadata": {},
     "output_type": "execute_result"
    }
   ],
   "source": [
    "knn=KNN(n_neighbors=16)\n",
    "knn.fit(train1_x,train1_y)\n",
    "train1_score=knn.score(train1_x,train1_y)\n",
    "test_score=knn.score(test_x,test_y)\n",
    "train_score=knn.score(train_x,train_y)\n",
    "valid_score=knn.score(valid_x,valid_y)\n",
    "\n",
    "train1_score,test_score,train_score,valid_score"
   ]
  },
  {
   "cell_type": "markdown",
   "metadata": {},
   "source": [
    "### Confusion matrix"
   ]
  },
  {
   "cell_type": "code",
   "execution_count": 28,
   "metadata": {},
   "outputs": [],
   "source": [
    "from sklearn.metrics import confusion_matrix as CM"
   ]
  },
  {
   "cell_type": "code",
   "execution_count": 31,
   "metadata": {},
   "outputs": [
    {
     "data": {
      "text/plain": [
       "array([[4623,    2],\n",
       "       [1050,    2]], dtype=int64)"
      ]
     },
     "execution_count": 31,
     "metadata": {},
     "output_type": "execute_result"
    }
   ],
   "source": [
    "cm1=CM(test_y,knn.predict(test_x))\n",
    "cm1"
   ]
  },
  {
   "cell_type": "code",
   "execution_count": 33,
   "metadata": {},
   "outputs": [
    {
     "data": {
      "text/plain": [
       "array([[3697,    2],\n",
       "       [ 837,    5]], dtype=int64)"
      ]
     },
     "execution_count": 33,
     "metadata": {},
     "output_type": "execute_result"
    }
   ],
   "source": [
    "cm2=CM(valid_y,knn.predict(valid_x))\n",
    "cm2"
   ]
  },
  {
   "cell_type": "markdown",
   "metadata": {},
   "source": [
    "# Report"
   ]
  },
  {
   "cell_type": "code",
   "execution_count": 38,
   "metadata": {},
   "outputs": [],
   "source": [
    "from sklearn.metrics import classification_report as report"
   ]
  },
  {
   "cell_type": "code",
   "execution_count": 39,
   "metadata": {},
   "outputs": [],
   "source": [
    "test_report=report(test_y,knn.predict(test_x))\n",
    "valid_report=report(valid_y,knn.predict(valid_x))"
   ]
  },
  {
   "cell_type": "code",
   "execution_count": 40,
   "metadata": {},
   "outputs": [
    {
     "name": "stdout",
     "output_type": "stream",
     "text": [
      "              precision    recall  f1-score   support\n",
      "\n",
      "           0       0.81      1.00      0.90      4625\n",
      "           1       0.50      0.00      0.00      1052\n",
      "\n",
      "    accuracy                           0.81      5677\n",
      "   macro avg       0.66      0.50      0.45      5677\n",
      "weighted avg       0.76      0.81      0.73      5677\n",
      "\n"
     ]
    }
   ],
   "source": [
    "print(test_score)"
   ]
  },
  {
   "cell_type": "code",
   "execution_count": 41,
   "metadata": {},
   "outputs": [
    {
     "name": "stdout",
     "output_type": "stream",
     "text": [
      "              precision    recall  f1-score   support\n",
      "\n",
      "           0       0.82      1.00      0.90      3699\n",
      "           1       0.71      0.01      0.01       842\n",
      "\n",
      "    accuracy                           0.82      4541\n",
      "   macro avg       0.76      0.50      0.45      4541\n",
      "weighted avg       0.80      0.82      0.73      4541\n",
      "\n"
     ]
    }
   ],
   "source": [
    "print(valid_score)"
   ]
  }
 ],
 "metadata": {
  "kernelspec": {
   "display_name": "Python 3",
   "language": "python",
   "name": "python3"
  },
  "language_info": {
   "codemirror_mode": {
    "name": "ipython",
    "version": 3
   },
   "file_extension": ".py",
   "mimetype": "text/x-python",
   "name": "python",
   "nbconvert_exporter": "python",
   "pygments_lexer": "ipython3",
   "version": "3.8.5"
  }
 },
 "nbformat": 4,
 "nbformat_minor": 4
}
